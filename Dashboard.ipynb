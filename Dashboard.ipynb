{
  "cells": [
    {
      "cell_type": "markdown",
      "metadata": {
        "id": "8F5OdSdXrSXQ"
      },
      "source": [
        "**An interactive interface** is created for users to see and modify their own data in real time. The interface allows users to input their unique ID to retrieve their existing data, including personal and financial details. Users can view a summary of their data, such as age, occupation, annual income, and credit-related information, and then make modifications directly through input fields. The interface includes dropdowns for categorical features (e.g., occupation, payment behavior) and sliders for continuous features like credit history age.\n",
        "\n",
        "Once the user has updated their data, they can click a \"Predict\" button to see how the changes affect the predicted credit score and associated probabilities (e.g., likelihood of being classified as \"Good\" or \"Poor\")."
      ]
    },
    {
      "cell_type": "markdown",
      "metadata": {
        "id": "sJa0nz0kpdO8"
      },
      "source": [
        "**NOTE**\n",
        "\n",
        "Streamlit is usable on Google Colab. However, it is more suitable on python script. The application can still be built and launch but launching it will take a few more steps, such as installing pyngrok and having an account on the pyngrok website to use it. So we advise you to run the **app.py** on python script and type 'streamlit run app.py' in terminal to launch for easier use."
      ]
    },
    {
      "cell_type": "code",
      "execution_count": null,
      "metadata": {
        "colab": {
          "base_uri": "https://localhost:8080/"
        },
        "id": "7K0JvXYYUfr6",
        "outputId": "a6059c4c-a0a5-473b-b94f-e392f67aa1bf"
      },
      "outputs": [
        {
          "output_type": "stream",
          "name": "stdout",
          "text": [
            "Requirement already satisfied: streamlit in /usr/local/lib/python3.11/dist-packages (1.43.2)\n",
            "Requirement already satisfied: pyngrok in /usr/local/lib/python3.11/dist-packages (7.2.3)\n",
            "Requirement already satisfied: altair<6,>=4.0 in /usr/local/lib/python3.11/dist-packages (from streamlit) (5.5.0)\n",
            "Requirement already satisfied: blinker<2,>=1.0.0 in /usr/local/lib/python3.11/dist-packages (from streamlit) (1.9.0)\n",
            "Requirement already satisfied: cachetools<6,>=4.0 in /usr/local/lib/python3.11/dist-packages (from streamlit) (5.5.2)\n",
            "Requirement already satisfied: click<9,>=7.0 in /usr/local/lib/python3.11/dist-packages (from streamlit) (8.1.8)\n",
            "Requirement already satisfied: numpy<3,>=1.23 in /usr/local/lib/python3.11/dist-packages (from streamlit) (2.0.2)\n",
            "Requirement already satisfied: packaging<25,>=20 in /usr/local/lib/python3.11/dist-packages (from streamlit) (24.2)\n",
            "Requirement already satisfied: pandas<3,>=1.4.0 in /usr/local/lib/python3.11/dist-packages (from streamlit) (2.2.2)\n",
            "Requirement already satisfied: pillow<12,>=7.1.0 in /usr/local/lib/python3.11/dist-packages (from streamlit) (11.1.0)\n",
            "Requirement already satisfied: protobuf<6,>=3.20 in /usr/local/lib/python3.11/dist-packages (from streamlit) (4.25.6)\n",
            "Requirement already satisfied: pyarrow>=7.0 in /usr/local/lib/python3.11/dist-packages (from streamlit) (18.1.0)\n",
            "Requirement already satisfied: requests<3,>=2.27 in /usr/local/lib/python3.11/dist-packages (from streamlit) (2.32.3)\n",
            "Requirement already satisfied: tenacity<10,>=8.1.0 in /usr/local/lib/python3.11/dist-packages (from streamlit) (9.0.0)\n",
            "Requirement already satisfied: toml<2,>=0.10.1 in /usr/local/lib/python3.11/dist-packages (from streamlit) (0.10.2)\n",
            "Requirement already satisfied: typing-extensions<5,>=4.4.0 in /usr/local/lib/python3.11/dist-packages (from streamlit) (4.12.2)\n",
            "Requirement already satisfied: watchdog<7,>=2.1.5 in /usr/local/lib/python3.11/dist-packages (from streamlit) (6.0.0)\n",
            "Requirement already satisfied: gitpython!=3.1.19,<4,>=3.0.7 in /usr/local/lib/python3.11/dist-packages (from streamlit) (3.1.44)\n",
            "Requirement already satisfied: pydeck<1,>=0.8.0b4 in /usr/local/lib/python3.11/dist-packages (from streamlit) (0.9.1)\n",
            "Requirement already satisfied: tornado<7,>=6.0.3 in /usr/local/lib/python3.11/dist-packages (from streamlit) (6.4.2)\n",
            "Requirement already satisfied: PyYAML>=5.1 in /usr/local/lib/python3.11/dist-packages (from pyngrok) (6.0.2)\n",
            "Requirement already satisfied: jinja2 in /usr/local/lib/python3.11/dist-packages (from altair<6,>=4.0->streamlit) (3.1.6)\n",
            "Requirement already satisfied: jsonschema>=3.0 in /usr/local/lib/python3.11/dist-packages (from altair<6,>=4.0->streamlit) (4.23.0)\n",
            "Requirement already satisfied: narwhals>=1.14.2 in /usr/local/lib/python3.11/dist-packages (from altair<6,>=4.0->streamlit) (1.30.0)\n",
            "Requirement already satisfied: gitdb<5,>=4.0.1 in /usr/local/lib/python3.11/dist-packages (from gitpython!=3.1.19,<4,>=3.0.7->streamlit) (4.0.12)\n",
            "Requirement already satisfied: python-dateutil>=2.8.2 in /usr/local/lib/python3.11/dist-packages (from pandas<3,>=1.4.0->streamlit) (2.8.2)\n",
            "Requirement already satisfied: pytz>=2020.1 in /usr/local/lib/python3.11/dist-packages (from pandas<3,>=1.4.0->streamlit) (2025.1)\n",
            "Requirement already satisfied: tzdata>=2022.7 in /usr/local/lib/python3.11/dist-packages (from pandas<3,>=1.4.0->streamlit) (2025.1)\n",
            "Requirement already satisfied: charset-normalizer<4,>=2 in /usr/local/lib/python3.11/dist-packages (from requests<3,>=2.27->streamlit) (3.4.1)\n",
            "Requirement already satisfied: idna<4,>=2.5 in /usr/local/lib/python3.11/dist-packages (from requests<3,>=2.27->streamlit) (3.10)\n",
            "Requirement already satisfied: urllib3<3,>=1.21.1 in /usr/local/lib/python3.11/dist-packages (from requests<3,>=2.27->streamlit) (2.3.0)\n",
            "Requirement already satisfied: certifi>=2017.4.17 in /usr/local/lib/python3.11/dist-packages (from requests<3,>=2.27->streamlit) (2025.1.31)\n",
            "Requirement already satisfied: smmap<6,>=3.0.1 in /usr/local/lib/python3.11/dist-packages (from gitdb<5,>=4.0.1->gitpython!=3.1.19,<4,>=3.0.7->streamlit) (5.0.2)\n",
            "Requirement already satisfied: MarkupSafe>=2.0 in /usr/local/lib/python3.11/dist-packages (from jinja2->altair<6,>=4.0->streamlit) (3.0.2)\n",
            "Requirement already satisfied: attrs>=22.2.0 in /usr/local/lib/python3.11/dist-packages (from jsonschema>=3.0->altair<6,>=4.0->streamlit) (25.3.0)\n",
            "Requirement already satisfied: jsonschema-specifications>=2023.03.6 in /usr/local/lib/python3.11/dist-packages (from jsonschema>=3.0->altair<6,>=4.0->streamlit) (2024.10.1)\n",
            "Requirement already satisfied: referencing>=0.28.4 in /usr/local/lib/python3.11/dist-packages (from jsonschema>=3.0->altair<6,>=4.0->streamlit) (0.36.2)\n",
            "Requirement already satisfied: rpds-py>=0.7.1 in /usr/local/lib/python3.11/dist-packages (from jsonschema>=3.0->altair<6,>=4.0->streamlit) (0.23.1)\n",
            "Requirement already satisfied: six>=1.5 in /usr/local/lib/python3.11/dist-packages (from python-dateutil>=2.8.2->pandas<3,>=1.4.0->streamlit) (1.17.0)\n"
          ]
        }
      ],
      "source": [
        "!pip install streamlit pyngrok"
      ]
    },
    {
      "cell_type": "code",
      "execution_count": null,
      "metadata": {
        "colab": {
          "base_uri": "https://localhost:8080/"
        },
        "id": "Vg8_RqZ3O2Bh",
        "outputId": "ecaa8cab-6eda-498d-ecce-12d36bb9ec20"
      },
      "outputs": [
        {
          "output_type": "stream",
          "name": "stdout",
          "text": [
            "Drive already mounted at /content/drive; to attempt to forcibly remount, call drive.mount(\"/content/drive\", force_remount=True).\n"
          ]
        }
      ],
      "source": [
        "from google.colab import drive\n",
        "drive.mount('/content/drive')\n",
        "import pydeck as pdk\n",
        "import pickle\n",
        "from pyngrok import ngrok"
      ]
    },
    {
      "cell_type": "markdown",
      "metadata": {
        "id": "WUGkRcxFpVbE"
      },
      "source": [
        "# Application"
      ]
    },
    {
      "cell_type": "code",
      "execution_count": null,
      "metadata": {
        "colab": {
          "base_uri": "https://localhost:8080/"
        },
        "id": "udbqW7wbSFXW",
        "outputId": "5ab457a9-0d72-4919-fee7-e9c2b03a2ff4"
      },
      "outputs": [
        {
          "output_type": "stream",
          "name": "stdout",
          "text": [
            "Overwriting app.py\n"
          ]
        }
      ],
      "source": [
        "%%writefile app.py\n",
        "import streamlit as st\n",
        "import pickle as pkl\n",
        "import numpy as np\n",
        "import pandas as pd\n",
        "import warnings\n",
        "from xgboost import XGBClassifier\n",
        "# from alibi.explainers import AnchorTabular\n",
        "\n",
        "Xtrain = pd.read_csv('/content/drive/MyDrive/NCKH 2024/data - NCKH-NEU/Xtrain.csv')\n",
        "with open('/content/drive/MyDrive/NCKH 2024/Modeling - NCKH-NEU/soft_voting_clf.pkl', 'rb') as file:\n",
        "    model = pkl.load(file)\n",
        "with open('/content/drive/MyDrive/NCKH 2024/Modeling - NCKH-NEU/minmax_scaler.pkl', 'rb') as file:\n",
        "    scaler = pkl.load(file)\n",
        "data_display = pd.read_csv('/content/drive/MyDrive/NCKH 2024/data - NCKH-NEU/display_data.csv')\n",
        "\n",
        "# # Define the function for suggesting changes\n",
        "# def suggest_changes_for_poor_class(input_data, train = Xtrain):\n",
        "#     feature_names = train.columns.tolist()\n",
        "\n",
        "#     warnings.filterwarnings(\"ignore\", message=\"X does not have valid feature names\")\n",
        "\n",
        "#     explainer = AnchorTabular(model.predict_proba, feature_names=feature_names)\n",
        "\n",
        "#     train_array = train.to_numpy()\n",
        "#     numerical_features = [train.columns.get_loc(col) for col in train.select_dtypes(include=['float', 'int']).columns]\n",
        "#     categorical_features = ['Occupation', 'Payment_of_Min_Amount', 'Payment_Behaviour', 'Auto Loan',\n",
        "#            'Credit-Builder Loan','Debt Consolidation Loan', 'Home Equity Loan',\n",
        "#            'Mortgage Loan', 'No Loan','Not Specified', 'Payday Loan', 'Personal Loan', 'Student Loan']\n",
        "#     for col in categorical_features:\n",
        "#         numerical_features.append(train.columns.get_loc(col))\n",
        "#     explainer.fit(train_array, numerical_features=numerical_features)\n",
        "\n",
        "#     input_data_array = input_data.to_numpy()\n",
        "#     input_data_scaled = scaler.transform(input_data_array)\n",
        "\n",
        "#     explanation = explainer.explain(input_data_scaled[0])\n",
        "\n",
        "#     anchor_rule = explanation.anchor\n",
        "#     predicted_class = explanation.raw['prediction']\n",
        "\n",
        "#     if predicted_class == 1:  # 'Poor' class\n",
        "#         suggestion = f\"The model predicts Poor.\\n\"\n",
        "#         suggestion += \"To improve the likelihood of being classified as Standard, you can consider:\\n\"\n",
        "#         # Map the anchor rule back to the original (unscaled) values\n",
        "#         for condition in anchor_rule:\n",
        "#             if '<=' in condition:\n",
        "#                 feature, threshold = condition.split(' <= ')\n",
        "#                 # Get the corresponding scaled value and reverse the scaling\n",
        "#                 scaled_value = float(threshold)\n",
        "#                 original_value = scaler.inverse_transform([[scaled_value if col == feature else 0 for col in feature_names]])[0][feature_names.index(feature)]\n",
        "#                 suggestion += f\" - Try to increase {feature} to be greater than {round(original_value)}.\\n\"\n",
        "#             elif '>' in condition:\n",
        "#                 feature, threshold = condition.split(' > ')\n",
        "#                 # Get the corresponding scaled value and reverse the scaling\n",
        "#                 scaled_value = float(threshold)\n",
        "#                 original_value = scaler.inverse_transform([[scaled_value if col == feature else 0 for col in feature_names]])[0][feature_names.index(feature)]\n",
        "#                 suggestion += f\" - Try to decrease {feature} to be less than {round(original_value)}.\\n\"\n",
        "#         return suggestion\n",
        "#     else:  # Not 'Poor' class\n",
        "#         return f\"The model predicts Standard.\\n\"\n",
        "\n",
        "st.title(\"Credit Score Prediction and Suggestions\")\n",
        "\n",
        "# User ID input\n",
        "st.markdown('<h2 style=\"font-size: 27px;\">Enter your User ID:</h2>', unsafe_allow_html=True)\n",
        "user_id = st.text_input(\"\")\n",
        "\n",
        "cols_df = ['Annual_Income', 'Monthly_Inhand_Salary', 'Num_Bank_Accounts',\n",
        "               'Num_Credit_Card', 'Interest_Rate', 'Num_of_Loan', 'Delay_from_due_date',\n",
        "               'Num_of_Delayed_Payment', 'Changed_Credit_Limit', 'Num_Credit_Inquiries',\n",
        "               'Outstanding_Debt', 'Credit_Utilization_Ratio', 'Total_EMI_per_month',\n",
        "               'Amount_invested_monthly', 'Monthly_Balance']\n",
        "cols_display = ['Annual Income', 'Monthly Inhand Salary', 'Number Bank Accounts',\n",
        "                'Number Credit Card', 'Interest Rate', 'Number of Loan',\n",
        "                'Total days delay from due date', 'Number of Delayed Payment', 'Percentage of change Credit Limit',\n",
        "                'Number of Credit Inquiries', 'Outstanding Debt', 'Credit Utilization Ratio',\n",
        "                'Total EMI per month','Amount invested monthly', 'Monthly Balance']\n",
        "\n",
        "# Mappings for encoding\n",
        "occupation_mapping = {0: 'Accountant', 1: 'Architect', 2: 'Developer', 3: 'Doctor', 4: 'Engineer',\n",
        "                      5: 'Entrepreneur', 6: 'Journalist', 7: 'Lawyer', 8: 'Manager', 9: 'Mechanic',\n",
        "                      10: 'Media Manager', 11: 'Musician', 12: 'Scientist', 13: 'Teacher', 14: 'Writer'}\n",
        "\n",
        "payment_behaviour_mapping = {0: 'High spent Large value payments', 1: 'High spent Medium value payments',\n",
        "                             2: 'High spent Small value payments', 3: 'Low spent Large value payments',\n",
        "                             4: 'Low spent Medium value payments', 5: 'Low spent Small value payments'}\n",
        "\n",
        "payment_of_min_amount_mapping = {0: 'No Minimum Payment Due', 1: 'Below Minimum Payment', 2: 'Pays Minimum Required'}\n",
        "\n",
        "# Reverse mappings\n",
        "occupation_reverse_mapping = {v: k for k, v in occupation_mapping.items()}\n",
        "payment_behaviour_reverse_mapping = {v: k for k, v in payment_behaviour_mapping.items()}\n",
        "payment_of_min_amount_reverse_mapping = {v: k for k, v in payment_of_min_amount_mapping.items()}\n",
        "\n",
        "order = ['Age', 'Occupation', 'Annual_Income',\n",
        "       'Monthly_Inhand_Salary', 'Num_Bank_Accounts', 'Num_Credit_Card',\n",
        "       'Interest_Rate', 'Num_of_Loan', 'Delay_from_due_date',\n",
        "       'Num_of_Delayed_Payment', 'Changed_Credit_Limit',\n",
        "       'Num_Credit_Inquiries', 'Outstanding_Debt', 'Credit_Utilization_Ratio',\n",
        "       'Credit_History_Age', 'Payment_of_Min_Amount', 'Total_EMI_per_month',\n",
        "       'Amount_invested_monthly', 'Payment_Behaviour', 'Monthly_Balance',\n",
        "       'Auto Loan', 'Credit-Builder Loan',\n",
        "       'Debt Consolidation Loan', 'Home Equity Loan', 'Mortgage Loan',\n",
        "       'No Loan', 'Not Specified', 'Payday Loan', 'Personal Loan',\n",
        "       'Student Loan']\n",
        "\n",
        "\n",
        "if user_id in data_display['ID'].values:\n",
        "    st.markdown('<h2 style=\"font-size: 25px;\"><strong>User Found!</strong></h2>', unsafe_allow_html=True)\n",
        "\n",
        "    # Fetch and display existing user data\n",
        "    user_data = data_display[data_display['ID'] == user_id].iloc[0]\n",
        "    st.markdown('<h2 style=\"font-size: 20px;\">Your Data</h2>', unsafe_allow_html=True)\n",
        "    st.dataframe(user_data.drop(['ID', 'Customer ID', 'Credit Score']), use_container_width=True, height=400)\n",
        "\n",
        "    # Show original class\n",
        "    st.markdown(f'<p style=\"font-size: 25px;\"><strong>Class:</strong> {user_data[\"Credit Score\"]}</p>', unsafe_allow_html=True)\n",
        "\n",
        "    # Allow user to modify data\n",
        "    st.markdown('<h2 style=\"font-size: 30px;\">Modify Your Data Below to see the result changes</h2>', unsafe_allow_html=True)\n",
        "    modified_data = {}\n",
        "    st.markdown(f'<p style=\"font-size: 18px;\"><strong>ID:</strong> {user_data[\"ID\"]}</p>', unsafe_allow_html=True)\n",
        "    st.markdown(f'<p style=\"font-size: 18px;\"><strong>Name:</strong> {user_data[\"Name\"]}</p>', unsafe_allow_html=True)\n",
        "    st.markdown(f'<p style=\"font-size: 18px;\"><strong>Age:</strong> {user_data[\"Age\"]}</p>', unsafe_allow_html=True)\n",
        "    st.markdown(f'<p style=\"font-size: 18px;\"><strong>Month:</strong> {user_data[\"Month\"]}</p>', unsafe_allow_html=True)\n",
        "\n",
        "    modified_data['Age'] = user_data['Age']\n",
        "\n",
        "    for col_df, col_display in zip(cols_df, cols_display):\n",
        "        st.markdown(f'<p style=\"font-size: 18px;\"><strong>{col_display.capitalize()}:</strong> {user_data[col_display]}</p>', unsafe_allow_html=True)\n",
        "        modified_data[col_df] = st.text_input(f\"Edit {col_display}\", value=str(user_data[col_display]))\n",
        "        try:\n",
        "            modified_data[col_df] = float(modified_data[col_df])\n",
        "        except ValueError:\n",
        "            st.error(f\"Please enter a valid number for {col_display.capitalize()}.\")\n",
        "\n",
        "    # Credit History Age\n",
        "    st.markdown('<p style=\"font-size: 18px;\"><strong>Enter Your Credit History Age:</strong></p>', unsafe_allow_html=True)\n",
        "    current_credit_history_age = user_data['Credit History Age']\n",
        "\n",
        "    # Extract years and months from the string format\n",
        "    import re\n",
        "    match = re.match(r\"(\\d+)\\s+Years\\s+and\\s+(\\d+)\\s+Months\", current_credit_history_age)\n",
        "    if match:\n",
        "        years_from_data = int(match.group(1))\n",
        "        months_from_data = int(match.group(2))\n",
        "    else:\n",
        "        years_from_data, months_from_data = 0, 0  # Fallback in case of format issues\n",
        "\n",
        "    # Input fields with default values from the dataset\n",
        "    years = st.slider(\"Years\", min_value=0, max_value=100, value=years_from_data)\n",
        "    months = st.slider(\"Months\", min_value=0, max_value=11, value=months_from_data)\n",
        "\n",
        "    credit_history_age_numerical = years + months / 12\n",
        "    modified_data['Credit_History_Age'] = credit_history_age_numerical\n",
        "\n",
        "    # Single-choice categorical features (showing original labels)\n",
        "    st.markdown('<p style=\"font-size: 18px;\"><strong>Occupation:</strong></p>', unsafe_allow_html=True)\n",
        "    modified_data['Occupation'] = st.selectbox(\n",
        "        \"Choose Occupation\",\n",
        "        list(occupation_mapping.values()),\n",
        "        index=occupation_reverse_mapping[user_data['Occupation']]\n",
        "    )\n",
        "\n",
        "    st.markdown('<p style=\"font-size: 18px;\"><strong>Payment Behaviour:</strong></p>', unsafe_allow_html=True)\n",
        "    modified_data['Payment_Behaviour'] = st.selectbox(\n",
        "        \"Choose Payment Behaviour\",\n",
        "        list(payment_behaviour_mapping.values()),\n",
        "        index=payment_behaviour_reverse_mapping[user_data['Payment Behaviour']]\n",
        "    )\n",
        "\n",
        "    st.markdown('<p style=\"font-size: 18px;\"><strong>Payment of Minimum Amount:</strong></p>', unsafe_allow_html=True)\n",
        "    modified_data['Payment_of_Min_Amount'] = st.selectbox(\n",
        "        \"Is payment in minimum amount?\",\n",
        "        list(payment_of_min_amount_mapping.values()),\n",
        "        index=payment_of_min_amount_reverse_mapping[user_data['Payment of Min Amount']]\n",
        "    )\n",
        "\n",
        "    # Map the selected values back to encoded values\n",
        "    modified_data['Occupation'] = occupation_reverse_mapping[modified_data['Occupation']]\n",
        "    modified_data['Payment_Behaviour'] = payment_behaviour_reverse_mapping[modified_data['Payment_Behaviour']]\n",
        "    modified_data['Payment_of_Min_Amount'] = payment_of_min_amount_reverse_mapping[modified_data['Payment_of_Min_Amount']]\n",
        "\n",
        "    # Multi-choice categorical features\n",
        "    all_loan_type = sorted(\n",
        "        data_display['Type of Loan']\n",
        "        .str.replace(\"and \", \"\", regex=False)\n",
        "        .str.split(\", \")\n",
        "        .explode()\n",
        "        .unique()\n",
        "    )\n",
        "    user_loan_types = user_data['Type of Loan'].replace(\"and \", \"\").split(\", \")\n",
        "\n",
        "    st.markdown('<p style=\"font-size: 18px;\"><strong>Type of Loan:</strong></p>', unsafe_allow_html=True)\n",
        "    modified_data['Type_of_Loan'] = st.multiselect(\"Select Type of Loan\", all_loan_type, default=user_loan_types)\n",
        "    for loan_type in all_loan_type:\n",
        "        modified_data[loan_type] = 1 if loan_type in modified_data['Type_of_Loan'] else 0\n",
        "    modified_data.pop('Type_of_Loan')\n",
        "\n",
        "    # Combine all features into a DataFrame\n",
        "    input_data = pd.DataFrame([modified_data])\n",
        "    input_data = input_data[order]\n",
        "\n",
        "    if st.button(\"Predict\"):\n",
        "        # Get the probabilities for each class (Good and Poor)\n",
        "        y_prob = model.predict_proba(input_data)\n",
        "\n",
        "        # Get the probabilities for Good (class 0) and Poor (class 1)\n",
        "        prob_good = y_prob[0][0] * 100  # Probability of Good (class 0)\n",
        "        prob_poor = y_prob[0][1] * 100  # Probability of Poor (class 1)\n",
        "\n",
        "        if prob_good > prob_poor:\n",
        "            st.markdown(f'<p style=\"font-size: 20px; color: green;\"><strong>The Credit Score {prob_good:.2f}% will be Standard</strong></p>', unsafe_allow_html=True)\n",
        "        else:\n",
        "            st.markdown(f'<p style=\"font-size: 20px; color: red;\"><strong>The Credit Score {prob_poor:.2f}% will be Poor</strong></p>', unsafe_allow_html=True)\n",
        "            # suggestion = suggest_changes_for_poor_class(input_data)\n",
        "            # st.markdown(f'<p style=\"font-size: 20px;\"><strong>Suggestions:</strong></p>', unsafe_allow_html=True)\n",
        "            # st.write(suggestion)\n",
        "\n",
        "\n",
        "else:\n",
        "    st.markdown('<h2 style=\"font-size: 20px;\">If You Do Not Have An ID, Please Enter Your Data Below</h2>', unsafe_allow_html=True)\n",
        "    # Collect user input\n",
        "    user_data = {}\n",
        "    user_data['Age'] = st.text_input(\"Age\", value=0)\n",
        "    try:\n",
        "        user_data['Age'] = int(user_data['Age'])\n",
        "    except ValueError:\n",
        "        st.error(\"Please enter a valid number for Age.\")\n",
        "\n",
        "    # Numerical Features\n",
        "    for col_df, col_display in zip(cols_df, cols_display):\n",
        "        user_data[col_df] = st.text_input(\n",
        "            f\"{col_display.capitalize()}\",\n",
        "            value=0\n",
        "        )\n",
        "        try:\n",
        "            user_data[col_df] = float(user_data[col_df])\n",
        "        except ValueError:\n",
        "            st.error(f\"Please enter a valid number for {col_display.capitalize()}.\")\n",
        "\n",
        "    years = st.slider(\"Years\", min_value=0, max_value = 100, value=0)\n",
        "    months = st.slider(\"Months\", min_value=0, max_value=11, value=0)\n",
        "    credit_history_age_numerical = years + months / 12\n",
        "    user_data['Credit_History_Age'] = credit_history_age_numerical    # Convert user input to array\n",
        "\n",
        "    # Single-choice categorical features (showing original labels)\n",
        "    user_data['Occupation'] = st.selectbox(\n",
        "        \"Occupation\",\n",
        "        list(occupation_mapping.values())\n",
        "    )\n",
        "\n",
        "    user_data['Payment_Behaviour'] = st.selectbox(\n",
        "        \"Payment Behaviour\",\n",
        "        list(payment_behaviour_mapping.values())\n",
        "    )\n",
        "\n",
        "    user_data['Payment_of_Min_Amount'] = st.selectbox(\n",
        "        \"Payment of Minimum Amount\",\n",
        "        list(payment_of_min_amount_mapping.values())\n",
        "    )\n",
        "\n",
        "    # Map the selected values back to encoded values\n",
        "    user_data['Occupation'] = occupation_reverse_mapping[user_data['Occupation']]\n",
        "    user_data['Payment_Behaviour'] = payment_behaviour_reverse_mapping[user_data['Payment_Behaviour']]\n",
        "    user_data['Payment_of_Min_Amount'] = payment_of_min_amount_reverse_mapping[user_data['Payment_of_Min_Amount']]\n",
        "\n",
        "    # Multi-choice categorical features\n",
        "    all_loan_type = sorted(\n",
        "        data_display['Type of Loan']\n",
        "        .str.replace(\"and \", \"\", regex=False)\n",
        "        .str.split(\", \")\n",
        "        .explode()\n",
        "        .unique()\n",
        "    )\n",
        "    user_data['Type_of_Loan'] = st.multiselect(\"Type of Loan\", all_loan_type)\n",
        "    for loan_type in all_loan_type:\n",
        "        user_data[loan_type] = 1 if loan_type in user_data['Type_of_Loan'] else 0\n",
        "    user_data.pop('Type_of_Loan')\n",
        "    # Display prediction\n",
        "    user_input = pd.DataFrame([user_data])\n",
        "    user_input = user_input[order]\n",
        "\n",
        "    if st.button(\"Predict\"):\n",
        "        # Get the probabilities for each class (Good and Poor)\n",
        "        y_prob = model.predict_proba(user_input)\n",
        "\n",
        "        # Get the probabilities for Good (class 0) and Poor (class 1)\n",
        "        prob_good = y_prob[0][0] * 100  # Probability of Good (class 0)\n",
        "        prob_poor = y_prob[0][1] * 100  # Probability of Poor (class 1)\n",
        "\n",
        "        # Display the result with percentages\n",
        "        st.markdown(f'<p style=\"font-size: 20px; color: green;\"><strong>The Credit Score {prob_good:.2f}% will be Standard</strong></p>',unsafe_allow_html=True)\n",
        "        st.markdown(f'<p style=\"font-size: 20px; color: red;\"><strong>The Credit Score {prob_poor:.2f}% will be Poor</strong></p>',unsafe_allow_html=True)\n",
        "\n",
        "\n",
        "        # # Suggest changes for the class\n",
        "        # suggestion = suggest_changes_for_poor_class(user_input)\n",
        "        # st.markdown(f'<p style=\"font-size: 20px;\"><strong>Suggestions:</strong></p>', unsafe_allow_html=True)\n",
        "        # st.write(suggestion)\n"
      ]
    },
    {
      "cell_type": "markdown",
      "metadata": {
        "id": "thzgucbFpRIR"
      },
      "source": [
        "# Run interface"
      ]
    },
    {
      "cell_type": "markdown",
      "metadata": {
        "id": "-soWa6JgsnXs"
      },
      "source": [
        "To initiate on Colab, you will have to use pyngrok and have an account registered in the ngrok website. An authtoken is needed to authorise usage, this authtoken is free and can obtain after signing up for an account. For convenience, i have already have an authtoken inplace.\n",
        "\n",
        "First run cell 1 , 2 then 3. Then you can click the first link of cell 2 to access to interface, clicking on the link of cell 3 will be block as Colab does not directly support it."
      ]
    },
    {
      "cell_type": "code",
      "execution_count": null,
      "metadata": {
        "colab": {
          "base_uri": "https://localhost:8080/"
        },
        "id": "xkg5XXpgeFEA",
        "outputId": "d36974fa-6f69-47da-cabc-af72ac041014"
      },
      "outputs": [
        {
          "output_type": "stream",
          "name": "stdout",
          "text": [
            "Authtoken saved to configuration file: /root/.config/ngrok/ngrok.yml\n"
          ]
        }
      ],
      "source": [
        "#Cell 1\n",
        "\n",
        "!ngrok authtoken 2qnF0dEZHMTsjxp2BEsikpa23fK_2neHTnR9hLQbMdKpY9Nwa"
      ]
    },
    {
      "cell_type": "code",
      "execution_count": null,
      "metadata": {
        "colab": {
          "base_uri": "https://localhost:8080/"
        },
        "id": "B-nqw9DjdlIh",
        "outputId": "e9cf5e17-16d0-407a-fbfd-d7a0bfbd5a14"
      },
      "outputs": [
        {
          "output_type": "stream",
          "name": "stdout",
          "text": [
            "New Streamlit app URL: NgrokTunnel: \"https://a113-35-197-105-138.ngrok-free.app\" -> \"http://localhost:8502\"\n"
          ]
        }
      ],
      "source": [
        "#Cell 2\n",
        "\n",
        "ngrok.kill()  # Stops any active tunnels\n",
        "url = ngrok.connect(8502)  # Creates a fresh tunnel on a new port\n",
        "print(f\"New Streamlit app URL: {url}\")"
      ]
    },
    {
      "cell_type": "code",
      "execution_count": null,
      "metadata": {
        "colab": {
          "base_uri": "https://localhost:8080/"
        },
        "id": "FivoyGwpax66",
        "outputId": "d166e5af-a163-4e38-c069-2e523e1b53d6"
      },
      "outputs": [
        {
          "output_type": "stream",
          "name": "stdout",
          "text": [
            "\n",
            "Collecting usage statistics. To deactivate, set browser.gatherUsageStats to false.\n",
            "\u001b[0m\n",
            "\u001b[0m\n",
            "\u001b[34m\u001b[1m  You can now view your Streamlit app in your browser.\u001b[0m\n",
            "\u001b[0m\n",
            "\u001b[34m  Local URL: \u001b[0m\u001b[1mhttp://localhost:8502\u001b[0m\n",
            "\u001b[34m  Network URL: \u001b[0m\u001b[1mhttp://172.28.0.12:8502\u001b[0m\n",
            "\u001b[34m  External URL: \u001b[0m\u001b[1mhttp://35.197.105.138:8502\u001b[0m\n",
            "\u001b[0m\n",
            "/usr/local/lib/python3.11/dist-packages/sklearn/base.py:380: InconsistentVersionWarning: Trying to unpickle estimator LogisticRegression from version 1.2.2 when using version 1.6.1. This might lead to breaking code or invalid results. Use at your own risk. For more info please refer to:\n",
            "https://scikit-learn.org/stable/model_persistence.html#security-maintainability-limitations\n",
            "  warnings.warn(\n",
            "/usr/local/lib/python3.11/dist-packages/sklearn/base.py:380: InconsistentVersionWarning: Trying to unpickle estimator GaussianNB from version 1.2.2 when using version 1.6.1. This might lead to breaking code or invalid results. Use at your own risk. For more info please refer to:\n",
            "https://scikit-learn.org/stable/model_persistence.html#security-maintainability-limitations\n",
            "  warnings.warn(\n",
            "/usr/local/lib/python3.11/dist-packages/xgboost/core.py:158: UserWarning: [10:26:53] WARNING: /workspace/src/collective/../data/../common/error_msg.h:80: If you are loading a serialized model (like pickle in Python, RDS in R) or\n",
            "configuration generated by an older version of XGBoost, please export the model by calling\n",
            "`Booster.save_model` from that version first, then load it back in current version. See:\n",
            "\n",
            "    https://xgboost.readthedocs.io/en/stable/tutorials/saving_model.html\n",
            "\n",
            "for more details about differences between saving model and serializing.\n",
            "\n",
            "  warnings.warn(smsg, UserWarning)\n",
            "/usr/local/lib/python3.11/dist-packages/sklearn/base.py:380: InconsistentVersionWarning: Trying to unpickle estimator LabelEncoder from version 1.2.2 when using version 1.6.1. This might lead to breaking code or invalid results. Use at your own risk. For more info please refer to:\n",
            "https://scikit-learn.org/stable/model_persistence.html#security-maintainability-limitations\n",
            "  warnings.warn(\n",
            "/usr/local/lib/python3.11/dist-packages/sklearn/base.py:380: InconsistentVersionWarning: Trying to unpickle estimator VotingClassifier from version 1.2.2 when using version 1.6.1. This might lead to breaking code or invalid results. Use at your own risk. For more info please refer to:\n",
            "https://scikit-learn.org/stable/model_persistence.html#security-maintainability-limitations\n",
            "  warnings.warn(\n",
            "/usr/local/lib/python3.11/dist-packages/sklearn/base.py:380: InconsistentVersionWarning: Trying to unpickle estimator MinMaxScaler from version 1.2.2 when using version 1.6.1. This might lead to breaking code or invalid results. Use at your own risk. For more info please refer to:\n",
            "https://scikit-learn.org/stable/model_persistence.html#security-maintainability-limitations\n",
            "  warnings.warn(\n",
            "2025-03-20 10:26:55.393 `label` got an empty value. This is discouraged for accessibility reasons and may be disallowed in the future by raising an exception. Please provide a non-empty label and hide it with label_visibility if needed.\n",
            "/usr/local/lib/python3.11/dist-packages/sklearn/base.py:380: InconsistentVersionWarning: Trying to unpickle estimator LogisticRegression from version 1.2.2 when using version 1.6.1. This might lead to breaking code or invalid results. Use at your own risk. For more info please refer to:\n",
            "https://scikit-learn.org/stable/model_persistence.html#security-maintainability-limitations\n",
            "  warnings.warn(\n",
            "/usr/local/lib/python3.11/dist-packages/sklearn/base.py:380: InconsistentVersionWarning: Trying to unpickle estimator GaussianNB from version 1.2.2 when using version 1.6.1. This might lead to breaking code or invalid results. Use at your own risk. For more info please refer to:\n",
            "https://scikit-learn.org/stable/model_persistence.html#security-maintainability-limitations\n",
            "  warnings.warn(\n",
            "[10:26:59] WARNING: /workspace/src/collective/../data/../common/error_msg.h:80: If you are loading a serialized model (like pickle in Python, RDS in R) or\n",
            "configuration generated by an older version of XGBoost, please export the model by calling\n",
            "`Booster.save_model` from that version first, then load it back in current version. See:\n",
            "\n",
            "    https://xgboost.readthedocs.io/en/stable/tutorials/saving_model.html\n",
            "\n",
            "for more details about differences between saving model and serializing.\n",
            "\n",
            "/usr/local/lib/python3.11/dist-packages/sklearn/base.py:380: InconsistentVersionWarning: Trying to unpickle estimator LabelEncoder from version 1.2.2 when using version 1.6.1. This might lead to breaking code or invalid results. Use at your own risk. For more info please refer to:\n",
            "https://scikit-learn.org/stable/model_persistence.html#security-maintainability-limitations\n",
            "  warnings.warn(\n",
            "/usr/local/lib/python3.11/dist-packages/sklearn/base.py:380: InconsistentVersionWarning: Trying to unpickle estimator VotingClassifier from version 1.2.2 when using version 1.6.1. This might lead to breaking code or invalid results. Use at your own risk. For more info please refer to:\n",
            "https://scikit-learn.org/stable/model_persistence.html#security-maintainability-limitations\n",
            "  warnings.warn(\n",
            "/usr/local/lib/python3.11/dist-packages/sklearn/base.py:380: InconsistentVersionWarning: Trying to unpickle estimator MinMaxScaler from version 1.2.2 when using version 1.6.1. This might lead to breaking code or invalid results. Use at your own risk. For more info please refer to:\n",
            "https://scikit-learn.org/stable/model_persistence.html#security-maintainability-limitations\n",
            "  warnings.warn(\n",
            "2025-03-20 10:27:00.281 `label` got an empty value. This is discouraged for accessibility reasons and may be disallowed in the future by raising an exception. Please provide a non-empty label and hide it with label_visibility if needed.\n",
            "\u001b[34m  Stopping...\u001b[0m\n"
          ]
        }
      ],
      "source": [
        "#Cell 3\n",
        "\n",
        "!streamlit run app.py --server.port 8502 &"
      ]
    },
    {
      "cell_type": "code",
      "execution_count": null,
      "metadata": {
        "id": "-w59f46QfEfm"
      },
      "outputs": [],
      "source": []
    }
  ],
  "metadata": {
    "colab": {
      "provenance": []
    },
    "kernelspec": {
      "display_name": "Python 3",
      "name": "python3"
    },
    "language_info": {
      "name": "python"
    }
  },
  "nbformat": 4,
  "nbformat_minor": 0
}